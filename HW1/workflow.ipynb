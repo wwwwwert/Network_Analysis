{
 "cells": [
  {
   "cell_type": "markdown",
   "metadata": {},
   "source": [
    "**Дедлайн**: 22 февраля. \n",
    "\n",
    "Условие:\n",
    "Провести Community Detection на заданном графе. \n",
    "\n",
    "Шкала оценивания:\n",
    "- 10 (одна шт.) - будем обсуждать решения\n",
    "- 9 (две шт.) - будем обсуждать решения\n",
    "- 8 - $Modularity > 0,65$\n",
    "- 6 - $Modularity > 0,64$\n",
    "- 4 - любое решение\n",
    "\n",
    "Ограничения:\n",
    "- одна попытка в сутки\n",
    "- все посылки подкреплены кодом\n",
    "- код должен выбивать заявленное значение модулярности в 6/10 ранов\n"
   ]
  },
  {
   "cell_type": "code",
   "execution_count": 1,
   "metadata": {},
   "outputs": [],
   "source": [
    "%load_ext autoreload\n",
    "%autoreload 2\n",
    "\n",
    "%matplotlib inline\n",
    "import matplotlib.pyplot as plt\n",
    "import seaborn as sns\n",
    "\n",
    "%config InlineBackend.figure_format = 'retina'\n",
    "plt.rcParams['figure.figsize'] = 8, 5\n",
    "plt.rcParams['font.size'] = 12\n",
    "plt.rcParams['savefig.format'] = 'pdf'\n",
    "sns.set_style('darkgrid')"
   ]
  },
  {
   "cell_type": "code",
   "execution_count": 2,
   "metadata": {},
   "outputs": [],
   "source": [
    "import networkx as nx"
   ]
  },
  {
   "cell_type": "code",
   "execution_count": 7,
   "metadata": {},
   "outputs": [
    {
     "name": "stdout",
     "output_type": "stream",
     "text": [
      "Number of nodes 12129\n",
      "Number of edges 47137\n"
     ]
    }
   ],
   "source": [
    "# G = nx.read_edgelist('train.txt', delimiter = \"\\t\", create_using = nx.DiGraph(), nodetype = int)\n",
    "G = nx.read_edgelist(\"test.edgelist\")\n",
    "print('Number of nodes', len(G.nodes))\n",
    "print('Number of edges', len(G.edges))"
   ]
  },
  {
   "cell_type": "code",
   "execution_count": null,
   "metadata": {},
   "outputs": [],
   "source": []
  }
 ],
 "metadata": {
  "kernelspec": {
   "display_name": "Python 3",
   "language": "python",
   "name": "python3"
  },
  "language_info": {
   "codemirror_mode": {
    "name": "ipython",
    "version": 3
   },
   "file_extension": ".py",
   "mimetype": "text/x-python",
   "name": "python",
   "nbconvert_exporter": "python",
   "pygments_lexer": "ipython3",
   "version": "3.10.0"
  }
 },
 "nbformat": 4,
 "nbformat_minor": 2
}
